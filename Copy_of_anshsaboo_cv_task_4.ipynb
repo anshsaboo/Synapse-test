{
  "metadata": {
    "kernelspec": {
      "language": "python",
      "display_name": "Python 3",
      "name": "python3"
    },
    "language_info": {
      "name": "python",
      "version": "3.10.14",
      "mimetype": "text/x-python",
      "codemirror_mode": {
        "name": "ipython",
        "version": 3
      },
      "pygments_lexer": "ipython3",
      "nbconvert_exporter": "python",
      "file_extension": ".py"
    },
    "kaggle": {
      "accelerator": "none",
      "dataSources": [
        {
          "sourceId": 1913658,
          "sourceType": "datasetVersion",
          "datasetId": 1036526
        }
      ],
      "dockerImageVersionId": 30786,
      "isInternetEnabled": false,
      "language": "python",
      "sourceType": "notebook",
      "isGpuEnabled": false
    },
    "colab": {
      "provenance": []
    }
  },
  "nbformat_minor": 0,
  "nbformat": 4,
  "cells": [
    {
      "source": [
        "# IMPORTANT: RUN THIS CELL IN ORDER TO IMPORT YOUR KAGGLE DATA SOURCES,\n",
        "# THEN FEEL FREE TO DELETE THIS CELL.\n",
        "# NOTE: THIS NOTEBOOK ENVIRONMENT DIFFERS FROM KAGGLE'S PYTHON\n",
        "# ENVIRONMENT SO THERE MAY BE MISSING LIBRARIES USED BY YOUR\n",
        "# NOTEBOOK.\n",
        "import kagglehub\n",
        "theblackmamba31_landscape_image_colorization_path = kagglehub.dataset_download('theblackmamba31/landscape-image-colorization')\n",
        "\n",
        "print('Data source import complete.')\n"
      ],
      "metadata": {
        "id": "xPOnM6Z5gnox",
        "outputId": "42e934a1-f593-4d44-b82e-6c119705d1a3",
        "colab": {
          "base_uri": "https://localhost:8080/"
        }
      },
      "cell_type": "code",
      "outputs": [
        {
          "output_type": "stream",
          "name": "stdout",
          "text": [
            "Downloading from https://www.kaggle.com/api/v1/datasets/download/theblackmamba31/landscape-image-colorization?dataset_version_number=4...\n"
          ]
        },
        {
          "output_type": "stream",
          "name": "stderr",
          "text": [
            "100%|██████████| 192M/192M [00:01<00:00, 102MB/s]"
          ]
        },
        {
          "output_type": "stream",
          "name": "stdout",
          "text": [
            "Extracting files...\n"
          ]
        },
        {
          "output_type": "stream",
          "name": "stderr",
          "text": [
            "\n"
          ]
        },
        {
          "output_type": "stream",
          "name": "stdout",
          "text": [
            "Data source import complete.\n"
          ]
        }
      ],
      "execution_count": null
    },
    {
      "cell_type": "markdown",
      "source": [
        "# **CV Task 4**\n",
        "\n",
        "\n",
        "\n",
        "## **DJS Synapse Learning Period**\n",
        "\n",
        "![image.png](data:image/png;base64,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)\n",
        "\n",
        "\n",
        "\n",
        "**Generative AI**, or GenAI, is an aspect of artificial intelligence where machines don’t just classify or predict—they actually create.\n",
        "\n",
        "\n",
        "\n",
        "Imagine AI models capable of generating breathtaking images, composing music, writing stories, or even creating synthetic medical images to aid in diagnostics. From artistic tools like DALL-E and Midjourney to language models like GPT, GenAI is reshaping industries by bringing creativity to machines.\n",
        "\n",
        "\n",
        "\n",
        "In this task, you’ll get into this exciting world by building a **Convolutional Autoencoder**, a model that captures patterns and reconstructs images, giving you a firsthand look at how AI learns to create and recreate data!\n",
        "\n",
        "\n",
        "\n",
        "Go through this before we start-\n",
        "\n",
        "https://research.ibm.com/blog/what-is-generative-AI\n",
        "\n",
        "\n",
        "\n",
        "https://www.youtube.com/watch?v=qiUEgSCyY5o\n"
      ],
      "metadata": {
        "id": "KBJBAXOMdkjO"
      }
    },
    {
      "cell_type": "markdown",
      "source": [
        "## Importing and Installing"
      ],
      "metadata": {
        "id": "YTV2iNh_eC1c"
      }
    },
    {
      "cell_type": "code",
      "source": [
        "# Install necessary libraries\n",
        "\n",
        "!pip install tensorflow keras opencv-python tqdm"
      ],
      "metadata": {
        "trusted": true,
        "id": "IObxi71vdkjP",
        "execution": {
          "iopub.status.busy": "2025-01-16T09:44:51.089962Z",
          "iopub.execute_input": "2025-01-16T09:44:51.090346Z",
          "iopub.status.idle": "2025-01-16T09:45:35.45388Z",
          "shell.execute_reply.started": "2025-01-16T09:44:51.090305Z",
          "shell.execute_reply": "2025-01-16T09:45:35.452478Z"
        },
        "outputId": "3ad22eea-3dc8-4079-809f-9a6313953c60",
        "colab": {
          "base_uri": "https://localhost:8080/"
        }
      },
      "outputs": [
        {
          "output_type": "stream",
          "name": "stdout",
          "text": [
            "Requirement already satisfied: tensorflow in /usr/local/lib/python3.11/dist-packages (2.17.1)\n",
            "Requirement already satisfied: keras in /usr/local/lib/python3.11/dist-packages (3.5.0)\n",
            "Requirement already satisfied: opencv-python in /usr/local/lib/python3.11/dist-packages (4.10.0.84)\n",
            "Requirement already satisfied: tqdm in /usr/local/lib/python3.11/dist-packages (4.67.1)\n",
            "Requirement already satisfied: absl-py>=1.0.0 in /usr/local/lib/python3.11/dist-packages (from tensorflow) (1.4.0)\n",
            "Requirement already satisfied: astunparse>=1.6.0 in /usr/local/lib/python3.11/dist-packages (from tensorflow) (1.6.3)\n",
            "Requirement already satisfied: flatbuffers>=24.3.25 in /usr/local/lib/python3.11/dist-packages (from tensorflow) (24.12.23)\n",
            "Requirement already satisfied: gast!=0.5.0,!=0.5.1,!=0.5.2,>=0.2.1 in /usr/local/lib/python3.11/dist-packages (from tensorflow) (0.6.0)\n",
            "Requirement already satisfied: google-pasta>=0.1.1 in /usr/local/lib/python3.11/dist-packages (from tensorflow) (0.2.0)\n",
            "Requirement already satisfied: h5py>=3.10.0 in /usr/local/lib/python3.11/dist-packages (from tensorflow) (3.12.1)\n",
            "Requirement already satisfied: libclang>=13.0.0 in /usr/local/lib/python3.11/dist-packages (from tensorflow) (18.1.1)\n",
            "Requirement already satisfied: ml-dtypes<0.5.0,>=0.3.1 in /usr/local/lib/python3.11/dist-packages (from tensorflow) (0.4.1)\n",
            "Requirement already satisfied: opt-einsum>=2.3.2 in /usr/local/lib/python3.11/dist-packages (from tensorflow) (3.4.0)\n",
            "Requirement already satisfied: packaging in /usr/local/lib/python3.11/dist-packages (from tensorflow) (24.2)\n",
            "Requirement already satisfied: protobuf!=4.21.0,!=4.21.1,!=4.21.2,!=4.21.3,!=4.21.4,!=4.21.5,<5.0.0dev,>=3.20.3 in /usr/local/lib/python3.11/dist-packages (from tensorflow) (4.25.5)\n",
            "Requirement already satisfied: requests<3,>=2.21.0 in /usr/local/lib/python3.11/dist-packages (from tensorflow) (2.32.3)\n",
            "Requirement already satisfied: setuptools in /usr/local/lib/python3.11/dist-packages (from tensorflow) (75.1.0)\n",
            "Requirement already satisfied: six>=1.12.0 in /usr/local/lib/python3.11/dist-packages (from tensorflow) (1.17.0)\n",
            "Requirement already satisfied: termcolor>=1.1.0 in /usr/local/lib/python3.11/dist-packages (from tensorflow) (2.5.0)\n",
            "Requirement already satisfied: typing-extensions>=3.6.6 in /usr/local/lib/python3.11/dist-packages (from tensorflow) (4.12.2)\n",
            "Requirement already satisfied: wrapt>=1.11.0 in /usr/local/lib/python3.11/dist-packages (from tensorflow) (1.17.0)\n",
            "Requirement already satisfied: grpcio<2.0,>=1.24.3 in /usr/local/lib/python3.11/dist-packages (from tensorflow) (1.69.0)\n",
            "Requirement already satisfied: tensorboard<2.18,>=2.17 in /usr/local/lib/python3.11/dist-packages (from tensorflow) (2.17.1)\n",
            "Requirement already satisfied: tensorflow-io-gcs-filesystem>=0.23.1 in /usr/local/lib/python3.11/dist-packages (from tensorflow) (0.37.1)\n",
            "Requirement already satisfied: numpy<2.0.0,>=1.23.5 in /usr/local/lib/python3.11/dist-packages (from tensorflow) (1.26.4)\n",
            "Requirement already satisfied: rich in /usr/local/lib/python3.11/dist-packages (from keras) (13.9.4)\n",
            "Requirement already satisfied: namex in /usr/local/lib/python3.11/dist-packages (from keras) (0.0.8)\n",
            "Requirement already satisfied: optree in /usr/local/lib/python3.11/dist-packages (from keras) (0.13.1)\n",
            "Requirement already satisfied: wheel<1.0,>=0.23.0 in /usr/local/lib/python3.11/dist-packages (from astunparse>=1.6.0->tensorflow) (0.45.1)\n",
            "Requirement already satisfied: charset-normalizer<4,>=2 in /usr/local/lib/python3.11/dist-packages (from requests<3,>=2.21.0->tensorflow) (3.4.1)\n",
            "Requirement already satisfied: idna<4,>=2.5 in /usr/local/lib/python3.11/dist-packages (from requests<3,>=2.21.0->tensorflow) (3.10)\n",
            "Requirement already satisfied: urllib3<3,>=1.21.1 in /usr/local/lib/python3.11/dist-packages (from requests<3,>=2.21.0->tensorflow) (2.3.0)\n",
            "Requirement already satisfied: certifi>=2017.4.17 in /usr/local/lib/python3.11/dist-packages (from requests<3,>=2.21.0->tensorflow) (2024.12.14)\n",
            "Requirement already satisfied: markdown>=2.6.8 in /usr/local/lib/python3.11/dist-packages (from tensorboard<2.18,>=2.17->tensorflow) (3.7)\n",
            "Requirement already satisfied: tensorboard-data-server<0.8.0,>=0.7.0 in /usr/local/lib/python3.11/dist-packages (from tensorboard<2.18,>=2.17->tensorflow) (0.7.2)\n",
            "Requirement already satisfied: werkzeug>=1.0.1 in /usr/local/lib/python3.11/dist-packages (from tensorboard<2.18,>=2.17->tensorflow) (3.1.3)\n",
            "Requirement already satisfied: markdown-it-py>=2.2.0 in /usr/local/lib/python3.11/dist-packages (from rich->keras) (3.0.0)\n",
            "Requirement already satisfied: pygments<3.0.0,>=2.13.0 in /usr/local/lib/python3.11/dist-packages (from rich->keras) (2.18.0)\n",
            "Requirement already satisfied: mdurl~=0.1 in /usr/local/lib/python3.11/dist-packages (from markdown-it-py>=2.2.0->rich->keras) (0.1.2)\n",
            "Requirement already satisfied: MarkupSafe>=2.1.1 in /usr/local/lib/python3.11/dist-packages (from werkzeug>=1.0.1->tensorboard<2.18,>=2.17->tensorflow) (3.0.2)\n"
          ]
        }
      ],
      "execution_count": null
    },
    {
      "cell_type": "code",
      "source": [
        "# Import necessary libraries\n",
        "\n",
        "import numpy as np\n",
        "\n",
        "import matplotlib.pyplot as plt\n",
        "\n",
        "import cv2\n",
        "\n",
        "import os\n",
        "\n",
        "import re\n",
        "\n",
        "from tqdm import tqdm\n",
        "\n",
        "from keras import layers, models\n",
        "\n",
        "from keras.datasets import mnist\n",
        "\n",
        "from keras.preprocessing.image import img_to_array\n",
        "\n",
        "from sklearn.model_selection import train_test_split\n",
        "\n",
        "import tensorflow as tf\n",
        "\n",
        "import keras\n"
      ],
      "metadata": {
        "_uuid": "8f2839f25d086af736a60e9eeb907d3b93b6e0e5",
        "_cell_guid": "b1076dfc-b9ad-4769-8c92-a6c4dae69d19",
        "trusted": true,
        "id": "aS3qWBH1dkjP",
        "execution": {
          "iopub.status.busy": "2025-01-16T09:46:05.483243Z",
          "iopub.execute_input": "2025-01-16T09:46:05.483798Z",
          "iopub.status.idle": "2025-01-16T09:46:05.49167Z",
          "shell.execute_reply.started": "2025-01-16T09:46:05.48373Z",
          "shell.execute_reply": "2025-01-16T09:46:05.49028Z"
        }
      },
      "outputs": [],
      "execution_count": null
    },
    {
      "cell_type": "markdown",
      "source": [
        "Preprocess the data-\n",
        "\n",
        "1. Loading the data\n",
        "\n",
        "2. Normalize the data to range [0, 1]\n",
        "\n",
        "3. Reshape data to fit the model input shape (28, 28, 1)\n",
        "\n",
        "4. Train test split on the data- training set and a validation set (80-20 split)"
      ],
      "metadata": {
        "id": "mp5WPa0jeRwl"
      }
    },
    {
      "cell_type": "code",
      "source": [
        "import numpy as np\n",
        "import tensorflow as tf\n",
        "from tensorflow.keras.datasets import mnist\n",
        "from sklearn.model_selection import train_test_split\n",
        "from tensorflow.keras import layers, models\n",
        "\n",
        "# Load the MNIST dataset\n",
        "(X_train_full, _), (X_test_full, _) = mnist.load_data()\n",
        "\n",
        "# Normalize pixel values to range [0,1]\n",
        "X_train_full = X_train_full.astype('float32') / 255.0\n",
        "X_test_full = X_test_full.astype('float32') / 255.0\n",
        "\n",
        "# Reshape data to include the channel dimension (grayscale)\n",
        "X_train_full = np.reshape(X_train_full, (len(X_train_full), 28, 28, 1))\n",
        "X_test_full = np.reshape(X_test_full, (len(X_test_full), 28, 28, 1))\n",
        "\n",
        "# Split training data into train and validation sets\n",
        "X_train, X_val, _, _ = train_test_split(X_train_full, X_train_full, test_size=0.2, random_state=42)\n",
        "\n",
        "# Define input shape\n",
        "input_shape = (28, 28, 1)"
      ],
      "metadata": {
        "execution": {
          "iopub.status.busy": "2025-01-16T09:46:26.697117Z",
          "iopub.execute_input": "2025-01-16T09:46:26.697981Z"
        },
        "trusted": true,
        "id": "pIe4YLcpdkjQ"
      },
      "outputs": [],
      "execution_count": null
    },
    {
      "cell_type": "markdown",
      "source": [
        "# Creating the autoencoder\n",
        "\n",
        "\n",
        "\n",
        "Generative AI, or GenAI, refers to techniques where models learn to generate new data based on existing patterns. Autoencoders are an example of this because they generate (or reconstruct) an output image based on what they’ve learned about similar images. Such models are essential in real-world applications like image denoising, colorization, anomaly detection, and even in sophisticated applications like image generation and text-to-image models.\n",
        "\n",
        "\n",
        "\n",
        "\n",
        "\n",
        "In this task, we will create a neural network model called an **autoencoder**, which is a foundational technique in GenAI. Autoencoders learn to compress data (in this case, images) into a compact representation and then reconstruct it as closely as possible to the original. Here, we use **convolutional layers** to capture spatial features from images.\n",
        "\n",
        "\n",
        "\n",
        "But first, what exactly is an autoencoder? Go through these-\n",
        "\n",
        "\n",
        "\n",
        "https://www.v7labs.com/blog/autoencoders-guide\n",
        "\n",
        "\n",
        "\n",
        "https://www.youtube.com/watch?v=xwrzh4e8DLs"
      ],
      "metadata": {
        "id": "p0OmEbEWuscg"
      }
    },
    {
      "cell_type": "code",
      "source": [
        "# Function to create the convolutional autoencoder\n",
        "\n",
        "def create_autoencoder(input_shape):\n",
        "\n",
        "  # Define the input layer for the encoder\n",
        "\n",
        "\n",
        "    encoder_input = layers.Input(shape= input_shape)\n",
        "\n",
        "\n",
        "\n",
        "    # Encoder layers: these layers will learn to compress the input data\n",
        "\n",
        "    # Apply a 2D convolution with 32 filters, 3x3 kernel, ReLU activation and padding\n",
        "    x=layers.Conv2D(32,(3,3),activation='relu',padding='same')(encoder_input)\n",
        "\n",
        "    # Then a 2x2 MaxPooling with padding to reduce spatial dimensions by half\n",
        "    x=layers.MaxPooling2D(2,2,padding='same')(x)\n",
        "\n",
        "    # Finally a 2D convolution with 16 filters, 3x3 kernel, ReLU activation, and 'same' padding\n",
        "    x=layers.Conv2D(16,(3,3),activation='relu',padding='same')(x)\n",
        "\n",
        "\n",
        "\n",
        "    latent_space = layers.MaxPooling2D((2, 2), padding='same')(x)\n",
        "\n",
        "\n",
        "\n",
        "    # Decoder layers: these layers will learn to reconstruct the input data from the latent space representation\n",
        "\n",
        "    # Apply a 2D convolution Transpose with 16 filters, 3x3 kernel, ReLU activation and padding\n",
        "    x=layers.Conv2DTranspose(16,(3,3),activation='relu',padding='same')(latent_space)\n",
        "\n",
        "    # Upsampling to double the spatial dimensions, reversing the effect of max pooling\n",
        "    x=layers.UpSampling2D((2,2))(x)\n",
        "\n",
        "    # Another 2D convolution Transpose with 32 filters\n",
        "    x=layers.Conv2DTranspose(32,(3,3),activation='relu',padding='same')(x)\n",
        "\n",
        "    # Another upsampling layer to continue restoring the original spatial dimensions\n",
        "    x=layers.UpSampling2D((2,2))(x)\n",
        "\n",
        "    decoder_output = layers.Conv2DTranspose(1, (3, 3), activation='sigmoid', padding='same')(x)\n",
        "\n",
        "\n",
        "\n",
        "    # Create and return the autoencoder model\n",
        "\n",
        "    autoencoder = models.Model(encoder_input, decoder_output)   # Combine encoder and decoder layers into a single model\n",
        "\n",
        "    return autoencoder\n"
      ],
      "metadata": {
        "execution": {
          "iopub.status.busy": "2024-10-30T13:59:33.516381Z",
          "iopub.execute_input": "2024-10-30T13:59:33.516718Z",
          "iopub.status.idle": "2024-10-30T13:59:33.526456Z",
          "shell.execute_reply.started": "2024-10-30T13:59:33.516685Z",
          "shell.execute_reply": "2024-10-30T13:59:33.525377Z"
        },
        "trusted": true,
        "id": "_GcarZjTdkjQ"
      },
      "outputs": [],
      "execution_count": null
    },
    {
      "cell_type": "code",
      "source": [
        "# Create the model with input shape (28, 28, 1)\n",
        "\n",
        "input_shape = (28,28,1)\n",
        "\n",
        "autoencoder = create_autoencoder(input_shape)\n",
        "\n",
        "\n",
        "\n",
        "# Compile the model with Adam optimizer and binary crossentropy loss\n",
        "\n",
        "autoencoder.compile(optimizer='adam', loss='binary_crossentropy')"
      ],
      "metadata": {
        "execution": {
          "iopub.status.busy": "2024-10-30T13:59:33.527608Z",
          "iopub.execute_input": "2024-10-30T13:59:33.52797Z",
          "iopub.status.idle": "2024-10-30T13:59:34.194671Z",
          "shell.execute_reply.started": "2024-10-30T13:59:33.527926Z",
          "shell.execute_reply": "2024-10-30T13:59:34.19383Z"
        },
        "trusted": true,
        "id": "-PNbtYEgdkjR"
      },
      "outputs": [],
      "execution_count": null
    },
    {
      "cell_type": "code",
      "source": [
        "# Train the autoencoder\n",
        "\n",
        "history = autoencoder.fit(X_train, X_train, epochs=10, batch_size=256, validation_data=(X_val, X_val))"
      ],
      "metadata": {
        "execution": {
          "iopub.status.busy": "2024-10-30T13:59:34.195836Z",
          "iopub.execute_input": "2024-10-30T13:59:34.196133Z",
          "iopub.status.idle": "2024-10-30T13:59:53.38478Z",
          "shell.execute_reply.started": "2024-10-30T13:59:34.196103Z",
          "shell.execute_reply": "2024-10-30T13:59:53.383649Z"
        },
        "trusted": true,
        "id": "dNV4m7G6dkjS",
        "colab": {
          "base_uri": "https://localhost:8080/"
        },
        "outputId": "1046569b-cbaa-4e0d-ee4c-4048b4e4ed6c"
      },
      "outputs": [
        {
          "output_type": "stream",
          "name": "stdout",
          "text": [
            "Epoch 1/10\n",
            "\u001b[1m188/188\u001b[0m \u001b[32m━━━━━━━━━━━━━━━━━━━━\u001b[0m\u001b[37m\u001b[0m \u001b[1m74s\u001b[0m 374ms/step - loss: 0.3182 - val_loss: 0.0968\n",
            "Epoch 2/10\n",
            "\u001b[1m188/188\u001b[0m \u001b[32m━━━━━━━━━━━━━━━━━━━━\u001b[0m\u001b[37m\u001b[0m \u001b[1m70s\u001b[0m 370ms/step - loss: 0.0919 - val_loss: 0.0842\n",
            "Epoch 3/10\n",
            "\u001b[1m188/188\u001b[0m \u001b[32m━━━━━━━━━━━━━━━━━━━━\u001b[0m\u001b[37m\u001b[0m \u001b[1m68s\u001b[0m 360ms/step - loss: 0.0829 - val_loss: 0.0797\n",
            "Epoch 4/10\n",
            "\u001b[1m188/188\u001b[0m \u001b[32m━━━━━━━━━━━━━━━━━━━━\u001b[0m\u001b[37m\u001b[0m \u001b[1m85s\u001b[0m 378ms/step - loss: 0.0793 - val_loss: 0.0773\n",
            "Epoch 5/10\n",
            "\u001b[1m188/188\u001b[0m \u001b[32m━━━━━━━━━━━━━━━━━━━━\u001b[0m\u001b[37m\u001b[0m \u001b[1m68s\u001b[0m 364ms/step - loss: 0.0769 - val_loss: 0.0757\n",
            "Epoch 6/10\n",
            "\u001b[1m188/188\u001b[0m \u001b[32m━━━━━━━━━━━━━━━━━━━━\u001b[0m\u001b[37m\u001b[0m \u001b[1m81s\u001b[0m 357ms/step - loss: 0.0753 - val_loss: 0.0744\n",
            "Epoch 7/10\n",
            "\u001b[1m188/188\u001b[0m \u001b[32m━━━━━━━━━━━━━━━━━━━━\u001b[0m\u001b[37m\u001b[0m \u001b[1m86s\u001b[0m 379ms/step - loss: 0.0743 - val_loss: 0.0736\n",
            "Epoch 8/10\n",
            "\u001b[1m188/188\u001b[0m \u001b[32m━━━━━━━━━━━━━━━━━━━━\u001b[0m\u001b[37m\u001b[0m \u001b[1m70s\u001b[0m 371ms/step - loss: 0.0733 - val_loss: 0.0727\n",
            "Epoch 9/10\n",
            "\u001b[1m188/188\u001b[0m \u001b[32m━━━━━━━━━━━━━━━━━━━━\u001b[0m\u001b[37m\u001b[0m \u001b[1m69s\u001b[0m 366ms/step - loss: 0.0726 - val_loss: 0.0721\n",
            "Epoch 10/10\n",
            "\u001b[1m188/188\u001b[0m \u001b[32m━━━━━━━━━━━━━━━━━━━━\u001b[0m\u001b[37m\u001b[0m \u001b[1m87s\u001b[0m 393ms/step - loss: 0.0722 - val_loss: 0.0716\n"
          ]
        }
      ],
      "execution_count": null
    },
    {
      "cell_type": "code",
      "source": [
        "# Print training and validation loss\n",
        "plt.plot(history.history['loss'],label=\"Training Loss\")\n",
        "plt.plot(history.history['val_loss'],label=\"Validation Loss\")\n",
        "plt.xlabel(\"Epochs\")\n",
        "plt.ylabel(\"Loss\")\n",
        "plt.legend()\n",
        "plt.title(\"Training and Validation Loss\")\n",
        "plt.show()\n"
      ],
      "metadata": {
        "execution": {
          "iopub.status.busy": "2024-10-30T13:59:53.38654Z",
          "iopub.execute_input": "2024-10-30T13:59:53.386997Z",
          "iopub.status.idle": "2024-10-30T13:59:53.394466Z",
          "shell.execute_reply.started": "2024-10-30T13:59:53.38695Z",
          "shell.execute_reply": "2024-10-30T13:59:53.393348Z"
        },
        "trusted": true,
        "id": "Tjc1CT8idkjS",
        "colab": {
          "base_uri": "https://localhost:8080/",
          "height": 472
        },
        "outputId": "30531dfb-8b29-4954-c595-71a41f5f5d26"
      },
      "outputs": [
        {
          "output_type": "display_data",
          "data": {
            "text/plain": [
              "<Figure size 640x480 with 1 Axes>"
            ],
            "image/png": "[encoded data removed]"
          },
          "metadata": {}
        }
      ],
      "execution_count": null
    },
    {
      "cell_type": "code",
      "source": [
        "# Evaluate on the test dataset after training\n",
        "test_loss=autoencoder.evaluate(X_test_full,X_test_full)\n"
      ],
      "metadata": {
        "execution": {
          "iopub.status.busy": "2024-10-30T13:59:53.395828Z",
          "iopub.execute_input": "2024-10-30T13:59:53.396223Z",
          "iopub.status.idle": "2024-10-30T13:59:55.165961Z",
          "shell.execute_reply.started": "2024-10-30T13:59:53.396175Z",
          "shell.execute_reply": "2024-10-30T13:59:55.164884Z"
        },
        "trusted": true,
        "id": "Rs2FeZFmdkjT",
        "colab": {
          "base_uri": "https://localhost:8080/"
        },
        "outputId": "bef64c31-790a-496e-89f7-677541667879"
      },
      "outputs": [
        {
          "output_type": "stream",
          "name": "stdout",
          "text": [
            "\u001b[1m313/313\u001b[0m \u001b[32m━━━━━━━━━━━━━━━━━━━━\u001b[0m\u001b[37m\u001b[0m \u001b[1m5s\u001b[0m 16ms/step - loss: 0.0703\n"
          ]
        }
      ],
      "execution_count": null
    },
    {
      "cell_type": "code",
      "source": [
        "# Plot original and reconstructed images\n",
        "\n",
        "\n",
        "n = 10  # Number of images to display\n",
        "\n",
        "plt.figure(figsize=(20, 4))\n",
        "\n",
        "for i in range(n):\n",
        "\n",
        "    # Display original\n",
        "\n",
        "\n",
        "\n",
        "    ax = plt.subplot(2, n, i + 1)\n",
        "\n",
        "    plt.imshow(X_test_full[i].reshape(28, 28), cmap='gray')\n",
        "\n",
        "    plt.title(\"Original\")\n",
        "\n",
        "    plt.axis('off')\n",
        "\n",
        "\n",
        "\n",
        "    # Display reconstruction\n",
        "\n",
        "    ax = plt.subplot(2, n, i + 1 + n)\n",
        "\n",
        "    plt.imshow(decoded_test_images[i].reshape(28, 28), cmap='gray')\n",
        "\n",
        "    plt.title(\"Reconstructed\")\n",
        "\n",
        "    plt.axis('off')\n",
        "\n",
        "\n",
        "\n",
        "plt.show()"
      ],
      "metadata": {
        "execution": {
          "iopub.status.busy": "2024-10-30T13:59:55.167309Z",
          "iopub.execute_input": "2024-10-30T13:59:55.167676Z",
          "iopub.status.idle": "2024-10-30T13:59:56.668536Z",
          "shell.execute_reply.started": "2024-10-30T13:59:55.16764Z",
          "shell.execute_reply": "2024-10-30T13:59:56.667317Z"
        },
        "trusted": true,
        "id": "_SkuwMsZdkjT",
        "colab": {
          "base_uri": "https://localhost:8080/",
          "height": 588
        },
        "outputId": "365a9883-0aaa-4c82-dd73-d9d9eaffd3fb"
      },
      "outputs": [
        {
          "output_type": "error",
          "ename": "NameError",
          "evalue": "name 'decoded_test_images' is not defined",
          "traceback": [
            "\u001b[0;31m---------------------------------------------------------------------------\u001b[0m",
            "\u001b[0;31mNameError\u001b[0m                                 Traceback (most recent call last)",
            "\u001b[0;32m<ipython-input-29-015b76e1db7e>\u001b[0m in \u001b[0;36m<cell line: 0>\u001b[0;34m()\u001b[0m\n\u001b[1;32m     26\u001b[0m     \u001b[0max\u001b[0m \u001b[0;34m=\u001b[0m \u001b[0mplt\u001b[0m\u001b[0;34m.\u001b[0m\u001b[0msubplot\u001b[0m\u001b[0;34m(\u001b[0m\u001b[0;36m2\u001b[0m\u001b[0;34m,\u001b[0m \u001b[0mn\u001b[0m\u001b[0;34m,\u001b[0m \u001b[0mi\u001b[0m \u001b[0;34m+\u001b[0m \u001b[0;36m1\u001b[0m \u001b[0;34m+\u001b[0m \u001b[0mn\u001b[0m\u001b[0;34m)\u001b[0m\u001b[0;34m\u001b[0m\u001b[0;34m\u001b[0m\u001b[0m\n\u001b[1;32m     27\u001b[0m \u001b[0;34m\u001b[0m\u001b[0m\n\u001b[0;32m---> 28\u001b[0;31m     \u001b[0mplt\u001b[0m\u001b[0;34m.\u001b[0m\u001b[0mimshow\u001b[0m\u001b[0;34m(\u001b[0m\u001b[0mdecoded_test_images\u001b[0m\u001b[0;34m[\u001b[0m\u001b[0mi\u001b[0m\u001b[0;34m]\u001b[0m\u001b[0;34m.\u001b[0m\u001b[0mreshape\u001b[0m\u001b[0;34m(\u001b[0m\u001b[0;36m28\u001b[0m\u001b[0;34m,\u001b[0m \u001b[0;36m28\u001b[0m\u001b[0;34m)\u001b[0m\u001b[0;34m,\u001b[0m \u001b[0mcmap\u001b[0m\u001b[0;34m=\u001b[0m\u001b[0;34m'gray'\u001b[0m\u001b[0;34m)\u001b[0m\u001b[0;34m\u001b[0m\u001b[0;34m\u001b[0m\u001b[0m\n\u001b[0m\u001b[1;32m     29\u001b[0m \u001b[0;34m\u001b[0m\u001b[0m\n\u001b[1;32m     30\u001b[0m     \u001b[0mplt\u001b[0m\u001b[0;34m.\u001b[0m\u001b[0mtitle\u001b[0m\u001b[0;34m(\u001b[0m\u001b[0;34m\"Reconstructed\"\u001b[0m\u001b[0;34m)\u001b[0m\u001b[0;34m\u001b[0m\u001b[0;34m\u001b[0m\u001b[0m\n",
            "\u001b[0;31mNameError\u001b[0m: name 'decoded_test_images' is not defined"
          ]
        },
        {
          "output_type": "display_data",
          "data": {
            "text/plain": [
              "<Figure size 2000x400 with 2 Axes>"
            ],
            "image/png": "[encoded data removed]"
          },
          "metadata": {}
        }
      ],
      "execution_count": null
    },
    {
      "cell_type": "markdown",
      "source": [
        "# Generative Adverserial Networks (GAN)\n",
        "\n",
        "\n",
        "\n",
        "Okay now you have seen how an autoencoder works, now lets look into GANs.\n",
        "\n",
        "\n",
        "\n",
        "A Generative Adversarial Network (GAN) is a deep learning model where two neural networks, called the **Generator** and the **Discriminator**, compete with each other to improve.\n",
        "\n",
        "\n",
        "\n",
        "The Generator's job is to create realistic-looking data (like images) from random input, while the Discriminator’s job is to determine whether a given data sample is real or generated. As they train together, the Generator gets better at “fooling” the Discriminator by producing increasingly realistic data, and the Discriminator gets better at spotting the fakes. This adversarial training process results in a Generator that can produce highly realistic samples.\n",
        "\n",
        "\n",
        "\n",
        "In this task, we’ll use a GAN to generate colorized images from grayscale inputs, aiming for results that closely match real color images.\n",
        "\n",
        "\n",
        "\n",
        "Go through these resources: https://developer.ibm.com/articles/generative-adversarial-networks-explained/\n",
        "\n",
        "\n",
        "\n",
        "The architecture-  https://medium.com/@marcodelpra/generative-adversarial-networks-dba10e1b4424\n",
        "\n",
        "\n",
        "\n",
        "The maths behind GANs- https://www.youtube.com/watch?v=Gib_kiXgnvA\n"
      ],
      "metadata": {
        "id": "TrmmuMaMdkjU"
      }
    },
    {
      "cell_type": "code",
      "source": [
        "# Loading and Processing the grascale, colour images\n",
        "\n",
        "\n",
        "\n",
        "def sorted_alphanumeric(data):\n",
        "\n",
        "    convert = lambda text: int(text) if text.isdigit() else text.lower()\n",
        "\n",
        "    alphanum_key = lambda key: [convert(c) for c in re.split('([0-9]+)',key)]\n",
        "\n",
        "    return sorted(data,key = alphanum_key)\n",
        "\n",
        "# defining the size of the image\n",
        "\n",
        "\n",
        "\n",
        "SIZE =  256\n",
        "\n",
        "color_img = []\n",
        "\n",
        "path = '../input/landscape-image-colorization/landscape Images/color'\n",
        "\n",
        "files = os.listdir(path)\n",
        "\n",
        "files = sorted_alphanumeric(files)\n",
        "\n",
        "for i in tqdm(files):\n",
        "\n",
        "        if i == '4200.jpg':\n",
        "\n",
        "            break\n",
        "\n",
        "        else:\n",
        "\n",
        "            img = cv2.imread(path + '/'+i,1)\n",
        "\n",
        "            # convert to RGB\n",
        "\n",
        "            img = cv2.cvtColor(img,cv2.COLOR_BGR2RGB)\n",
        "\n",
        "            #resizing image and normalizing it\n",
        "\n",
        "            img = cv2.resize(img, (SIZE, SIZE))\n",
        "\n",
        "            img = img.astype('float32') / 255.0\n",
        "\n",
        "            img = img_to_array(img)\n",
        "\n",
        "            color_img.append(img_to_array(img))\n",
        "\n",
        "\n",
        "\n",
        "gray_img = []\n",
        "\n",
        "path = '../input/landscape-image-colorization/landscape Images/gray'\n",
        "\n",
        "files = os.listdir(path)\n",
        "\n",
        "files = sorted_alphanumeric(files)\n",
        "\n",
        "for i in tqdm(files):\n",
        "\n",
        "         if i == '4200.jpg':\n",
        "\n",
        "            break\n",
        "\n",
        "         else:\n",
        "\n",
        "            img = cv2.imread(path + '/'+i,1)\n",
        "\n",
        "            img = cv2.cvtColor(img, cv2.COLOR_BGR2RGB)\n",
        "\n",
        "            #resizing image\n",
        "\n",
        "            img = cv2.resize(img, (SIZE, SIZE))\n",
        "\n",
        "            img = img.astype('float32') / 255.0\n",
        "\n",
        "            gray_img.append(img_to_array(img))"
      ],
      "metadata": {
        "execution": {
          "iopub.status.busy": "2024-10-30T13:59:56.669771Z",
          "iopub.execute_input": "2024-10-30T13:59:56.670088Z",
          "iopub.status.idle": "2024-10-30T14:00:50.664946Z",
          "shell.execute_reply.started": "2024-10-30T13:59:56.670056Z",
          "shell.execute_reply": "2024-10-30T14:00:50.663921Z"
        },
        "trusted": true,
        "id": "lR6s11FAdkjU"
      },
      "outputs": [],
      "execution_count": null
    },
    {
      "cell_type": "code",
      "source": [
        "# preparing training and testing datasets\n",
        "\n",
        "\n",
        "\n",
        "batch_size=16\n",
        "\n",
        "color_dataset=tf.data.Dataset.from_tensor_slices(np.array(color_img[:4000])).batch(batch_size)\n",
        "\n",
        "gray_dataset=tf.data.Dataset.from_tensor_slices(np.array(gray_img[:4000])).batch(batch_size)\n",
        "\n",
        "\n",
        "\n",
        "color_dataset_t=tf.data.Dataset.from_tensor_slices(np.array(color_img[4000:])).batch(batch_size)\n",
        "\n",
        "gray_dataset_t=tf.data.Dataset.from_tensor_slices(np.array(gray_img[4000:])).batch(batch_size)\n",
        "\n",
        "Color_test = color_img[4000:]\n",
        "\n",
        "Gray_test = gray_img[4000:]\n",
        "\n",
        "print(\"Number of batches:\", color_dataset.cardinality().numpy())\n",
        "\n",
        "for batch in color_dataset.take(1):\n",
        "\n",
        "    print(\"Shape of one batch:\", batch.shape)"
      ],
      "metadata": {
        "execution": {
          "iopub.status.busy": "2024-10-30T14:00:50.666841Z",
          "iopub.execute_input": "2024-10-30T14:00:50.667216Z",
          "iopub.status.idle": "2024-10-30T14:01:09.881635Z",
          "shell.execute_reply.started": "2024-10-30T14:00:50.667175Z",
          "shell.execute_reply": "2024-10-30T14:01:09.880591Z"
        },
        "trusted": true,
        "id": "HuQnnXrcdkjU"
      },
      "outputs": [],
      "execution_count": null
    },
    {
      "cell_type": "code",
      "source": [
        "example_color = next(iter(color_dataset))\n",
        "\n",
        "example_gray = next(iter(gray_dataset))"
      ],
      "metadata": {
        "execution": {
          "iopub.status.busy": "2024-10-30T14:01:09.883038Z",
          "iopub.execute_input": "2024-10-30T14:01:09.883386Z",
          "iopub.status.idle": "2024-10-30T14:01:14.900908Z",
          "shell.execute_reply.started": "2024-10-30T14:01:09.883348Z",
          "shell.execute_reply": "2024-10-30T14:01:14.9Z"
        },
        "trusted": true,
        "id": "bFwA23pBdkjV"
      },
      "outputs": [],
      "execution_count": null
    },
    {
      "cell_type": "code",
      "source": [
        "# define a function plot_images that displays pairs of color and grayscale images side by side\n",
        "\n",
        "def plot_images(a=4):\n",
        "    \"\"\"Displays 'a' pairs of color and grayscale images side by side.\"\"\"\n",
        "\n",
        "    # Fetch 'a' examples from datasets\n",
        "    example_color = next(iter(color_dataset.take(a)))\n",
        "    example_gray = next(iter(gray_dataset.take(a)))\n",
        "\n",
        "    # Convert tensors to numpy arrays for visualization\n",
        "    example_color = example_color.numpy()\n",
        "    example_gray = example_gray.numpy()\n",
        "\n",
        "    # Plot images\n",
        "    plt.figure(figsize=(8, 2 * a))  # Adjust figure size based on 'a'\n",
        "\n",
        "    for i in range(a):\n",
        "        # Grayscale image\n",
        "        plt.subplot(a, 2, 2 * i + 1)\n",
        "        plt.imshow(example_gray[i], cmap=\"gray\")  # Show as grayscale\n",
        "        plt.axis(\"off\")\n",
        "        plt.title(\"Grayscale Image\")\n",
        "\n",
        "        # Color image\n",
        "        plt.subplot(a, 2, 2 * i + 2)\n",
        "        plt.imshow(example_color[i])  # Show as RGB\n",
        "        plt.axis(\"off\")\n",
        "        plt.title(\"Color Image\")\n",
        "\n",
        "    plt.show()\n",
        "\n",
        "# Example usage\n",
        "plot_images(4)  # Display 4 pairs of grayscale and color images\n",
        "\n",
        "\n",
        "\n"
      ],
      "metadata": {
        "execution": {
          "iopub.status.busy": "2024-10-30T14:01:14.904675Z",
          "iopub.execute_input": "2024-10-30T14:01:14.905005Z",
          "iopub.status.idle": "2024-10-30T14:01:14.911128Z",
          "shell.execute_reply.started": "2024-10-30T14:01:14.904971Z",
          "shell.execute_reply": "2024-10-30T14:01:14.91011Z"
        },
        "trusted": true,
        "id": "swU71e_xdkjV",
        "colab": {
          "base_uri": "https://localhost:8080/",
          "height": 346
        },
        "outputId": "eaf31ef9-0ae1-4693-be58-5ec2aea3dd49"
      },
      "outputs": [
        {
          "output_type": "error",
          "ename": "NameError",
          "evalue": "name 'color_dataset' is not defined",
          "traceback": [
            "\u001b[0;31m---------------------------------------------------------------------------\u001b[0m",
            "\u001b[0;31mNameError\u001b[0m                                 Traceback (most recent call last)",
            "\u001b[0;32m<ipython-input-19-8b82ae5e2e8c>\u001b[0m in \u001b[0;36m<cell line: 0>\u001b[0;34m()\u001b[0m\n\u001b[1;32m     31\u001b[0m \u001b[0;34m\u001b[0m\u001b[0m\n\u001b[1;32m     32\u001b[0m \u001b[0;31m# Example usage\u001b[0m\u001b[0;34m\u001b[0m\u001b[0;34m\u001b[0m\u001b[0m\n\u001b[0;32m---> 33\u001b[0;31m \u001b[0mplot_images\u001b[0m\u001b[0;34m(\u001b[0m\u001b[0;36m4\u001b[0m\u001b[0;34m)\u001b[0m  \u001b[0;31m# Display 4 pairs of grayscale and color images\u001b[0m\u001b[0;34m\u001b[0m\u001b[0;34m\u001b[0m\u001b[0m\n\u001b[0m\u001b[1;32m     34\u001b[0m \u001b[0;34m\u001b[0m\u001b[0m\n\u001b[1;32m     35\u001b[0m \u001b[0;34m\u001b[0m\u001b[0m\n",
            "\u001b[0;32m<ipython-input-19-8b82ae5e2e8c>\u001b[0m in \u001b[0;36mplot_images\u001b[0;34m(a)\u001b[0m\n\u001b[1;32m      5\u001b[0m \u001b[0;34m\u001b[0m\u001b[0m\n\u001b[1;32m      6\u001b[0m     \u001b[0;31m# Fetch 'a' examples from datasets\u001b[0m\u001b[0;34m\u001b[0m\u001b[0;34m\u001b[0m\u001b[0m\n\u001b[0;32m----> 7\u001b[0;31m     \u001b[0mexample_color\u001b[0m \u001b[0;34m=\u001b[0m \u001b[0mnext\u001b[0m\u001b[0;34m(\u001b[0m\u001b[0miter\u001b[0m\u001b[0;34m(\u001b[0m\u001b[0mcolor_dataset\u001b[0m\u001b[0;34m.\u001b[0m\u001b[0mtake\u001b[0m\u001b[0;34m(\u001b[0m\u001b[0ma\u001b[0m\u001b[0;34m)\u001b[0m\u001b[0;34m)\u001b[0m\u001b[0;34m)\u001b[0m\u001b[0;34m\u001b[0m\u001b[0;34m\u001b[0m\u001b[0m\n\u001b[0m\u001b[1;32m      8\u001b[0m     \u001b[0mexample_gray\u001b[0m \u001b[0;34m=\u001b[0m \u001b[0mnext\u001b[0m\u001b[0;34m(\u001b[0m\u001b[0miter\u001b[0m\u001b[0;34m(\u001b[0m\u001b[0mgray_dataset\u001b[0m\u001b[0;34m.\u001b[0m\u001b[0mtake\u001b[0m\u001b[0;34m(\u001b[0m\u001b[0ma\u001b[0m\u001b[0;34m)\u001b[0m\u001b[0;34m)\u001b[0m\u001b[0;34m)\u001b[0m\u001b[0;34m\u001b[0m\u001b[0;34m\u001b[0m\u001b[0m\n\u001b[1;32m      9\u001b[0m \u001b[0;34m\u001b[0m\u001b[0m\n",
            "\u001b[0;31mNameError\u001b[0m: name 'color_dataset' is not defined"
          ]
        }
      ],
      "execution_count": null
    },
    {
      "cell_type": "code",
      "source": [
        "# call the function\n",
        "\n",
        "plot_images(3)"
      ],
      "metadata": {
        "execution": {
          "iopub.status.busy": "2024-10-30T14:01:14.912349Z",
          "iopub.execute_input": "2024-10-30T14:01:14.912749Z",
          "iopub.status.idle": "2024-10-30T14:01:16.477259Z",
          "shell.execute_reply.started": "2024-10-30T14:01:14.912703Z",
          "shell.execute_reply": "2024-10-30T14:01:16.476291Z"
        },
        "trusted": true,
        "id": "8_RDFMVpdkjV"
      },
      "outputs": [],
      "execution_count": null
    },
    {
      "cell_type": "markdown",
      "source": [
        "The code block below defines two helper functions, **downsample** and **upsample**, used for creating downsampling and upsampling layers respectively."
      ],
      "metadata": {
        "id": "p5VcQFleJ_Ys"
      }
    },
    {
      "cell_type": "code",
      "source": [
        "def downsample(filters, size, apply_batchnorm=True):\n",
        "\n",
        "  # Initialize a Sequential model\n",
        "\n",
        "  result = tf.keras.Sequential()\n",
        "\n",
        "  result.add(tf.keras.layers.Conv2D(filters, size, strides=2, padding='same',\n",
        "\n",
        "                             kernel_initializer='he_normal', use_bias=False))\n",
        "\n",
        "\n",
        "\n",
        "  if apply_batchnorm: # what does batch norm do here?normalizes the inputs to a layer\n",
        "\n",
        "    result.add(tf.keras.layers.BatchNormalization())\n",
        "\n",
        "\n",
        "\n",
        "  # Add a Leaky ReLU activation to introduce non-linearity\n",
        "  result.add(tf.keras.layers.LeakyReLU())\n",
        "\n",
        "\n",
        "\n",
        "  return result\n",
        "\n",
        "\n",
        "\n",
        "def upsample(filters, size, apply_dropout=False):\n",
        "\n",
        "  # Initialize a Sequential model\n",
        "\n",
        "  result = tf.keras.Sequential()\n",
        "\n",
        "\n",
        "\n",
        "  # Add a Conv2DTranspose layer with parameters same as the Convolution layer\n",
        "  result.add(tf.keras.layers.Conv2DTranspose(filters, size, strides=2,\n",
        "\n",
        "                                            padding='same',\n",
        "\n",
        "                                            kernel_initializer='he_normal',\n",
        "\n",
        "                                            use_bias=False))\n",
        "\n",
        "\n",
        "\n",
        "\n",
        "  # Apply batch normalization\n",
        "  result.add(tf.keras.layers.BatchNormalization())\n",
        "\n",
        "\n",
        "\n",
        "  if apply_dropout:  # What's the reason to add a dropout layer here?to prevent overfitting\n",
        "\n",
        "      result.add(tf.keras.layers.Dropout(0.5))\n",
        "\n",
        "\n",
        "\n",
        "  # Apply relu activation\n",
        "  result.add(tf.keras.layers.ReLU())\n",
        "\n",
        "\n",
        "\n",
        "  return result"
      ],
      "metadata": {
        "execution": {
          "iopub.status.busy": "2024-10-30T14:01:16.47872Z",
          "iopub.execute_input": "2024-10-30T14:01:16.479149Z",
          "iopub.status.idle": "2024-10-30T14:01:16.490377Z",
          "shell.execute_reply.started": "2024-10-30T14:01:16.479102Z",
          "shell.execute_reply": "2024-10-30T14:01:16.489312Z"
        },
        "trusted": true,
        "id": "hl8lpR2gdkjV"
      },
      "outputs": [],
      "execution_count": null
    },
    {
      "cell_type": "markdown",
      "source": [
        "# Defining the Generator Model\n",
        "\n",
        "\n",
        "\n",
        "Generative Adversarial Networks (GANs) uses a unit architecture allowing the model to iteratively improve. Look into these to understand its architecture better- https://www.geeksforgeeks.org/u-net-architecture-explained/\n",
        "\n",
        "\n"
      ],
      "metadata": {
        "id": "fRhXvDqYLPKe"
      }
    },
    {
      "cell_type": "markdown",
      "source": [
        "Create a **down_stack** and an **up_stack** consisting of layers of the functions you have written above. Don't forget to vary the filter size according to the number of layers you create!"
      ],
      "metadata": {
        "id": "TNrrOPQ-xzgG"
      }
    },
    {
      "cell_type": "code",
      "source": [
        "def Generator():\n",
        "\n",
        "  # Define the input layer of the model\n",
        "\n",
        "\n",
        "  # Input layer: expects images of size 256x256 with 3 color channels (RGB)\n",
        "\n",
        "  inputs = tf.keras.Input(shape=(256,256,3))\n",
        "\n",
        "\n",
        "  # Downsampling stack: reduces spatial dimensions while increasing feature depth\n",
        "\n",
        "  down_stack = [\n",
        "      tf.keras.layers.Conv2D(64,4,strides=2,padding='same',kernel_iniializer='he_normal',use_bias=False),\n",
        "      tf.keras.layers.BatchNormalization(),\n",
        "      tf.keras.layers.LeakyReLU(),\n",
        "\n",
        "      tf.keras.layers.Conv2D(128,4,strides=2,padding='same',kernel_iniializer='he_normal',use_bias=False),\n",
        "      tf.keras.layers.BatchNormalization(),\n",
        "      tf.keras.layers.LeakyReLU(),\n",
        "\n",
        "      tf.keras.layers.Conv2D(256,4,strides=2,padding='same',kernel_iniializer='he_normal',use_bias=False),\n",
        "      tf.keras.layers.BatchNormalization(),\n",
        "      tf.keras.layers.LeakyReLU(),\n",
        "\n",
        "      tf.keras.layers.Conv2D(512,4,strides=2,padding='same',kernel_iniializer='he_normal',use_bias=False),\n",
        "      tf.keras.layers.BatchNormalization(),\n",
        "      tf.keras.layers.LeakyReLU(),\n",
        "\n",
        "\n",
        "\n",
        "\n",
        "\n",
        "  ]\n",
        "\n",
        "\n",
        "\n",
        " # Upsampling stack: increases spatial dimensions while decreasing feature depth\n",
        "\n",
        "  up_stack = [\n",
        "      tf.keras.layers.Conv2DTranspose(512,4,strides=2,padding='same',kernel_iniializer='he_normal',use_bias=False),\n",
        "      tf.keras.layers.BatchNormalization(),\n",
        "      tf.keras.layers.LeakyReLU(),\n",
        "\n",
        "      tf.keras.layers.Conv2DTranspose(256,4,strides=2,padding='same',kernel_iniializer='he_normal',use_bias=False),\n",
        "      tf.keras.layers.BatchNormalization(),\n",
        "      tf.keras.layers.LeakyReLU(),\n",
        "\n",
        "      tf.keras.layers.Conv2DTranspose(128,4,strides=2,padding='same',kernel_iniializer='he_normal',use_bias=False),\n",
        "      tf.keras.layers.BatchNormalization(),\n",
        "      tf.keras.layers.LeakyReLU(),\n",
        "\n",
        "      tf.keras.layers.Conv2DTranspose(64,4,strides=2,padding='same',kernel_iniializer='he_normal',use_bias=False),\n",
        "      tf.keras.layers.BatchNormalization(),\n",
        "      tf.keras.layers.LeakyReLU(),\n",
        "\n",
        "\n",
        "\n",
        "\n",
        "\n",
        "  ]\n",
        "\n",
        "\n",
        "\n",
        "  # initializer for the final layer. This initializes the weights of the final layer's kernel with a normal distribution\n",
        "\n",
        "  initializer = tf.random_normal_initializer(0., 0.02)\n",
        "\n",
        "\n",
        "\n",
        "  # add a convo transpose layer as the last layer (in the parameteres include the kernel_initializer, padding and tanh activation function)\n",
        "\n",
        "  # additionally, what no. of filters and kernel size will be required here? think and mention it in the parameters\n",
        "\n",
        "  last = tf.keras.layers.Conv2DTranspose(3,4,strides=2,padding='same',kernel_initializer=initializer,activation='tanh')\n",
        "\n",
        "\n",
        "\n",
        "  x = inputs\n",
        "\n",
        "\n",
        "\n",
        "  # Downsampling through the model\n",
        "\n",
        "  skips = []\n",
        "\n",
        "  for down in down_stack:\n",
        "\n",
        "    x = down(x)\n",
        "\n",
        "    skips.append(x)\n",
        "\n",
        "\n",
        "\n",
        "  skips = reversed(skips[:-1])\n",
        "\n",
        "\n",
        "\n",
        "  # Upsampling and establishing the skip connections\n",
        "\n",
        "  for up, skip in zip(up_stack, skips):\n",
        "\n",
        "    x = up(x)\n",
        "\n",
        "    x = tf.keras.layers.Concatenate()([x, skip])\n",
        "\n",
        "\n",
        "\n",
        "  x = last(x)\n",
        "\n",
        "\n",
        "\n",
        "  return tf.keras.Model(inputs=inputs, outputs=x)\n"
      ],
      "metadata": {
        "execution": {
          "iopub.status.busy": "2024-10-30T14:01:16.491841Z",
          "iopub.execute_input": "2024-10-30T14:01:16.492148Z",
          "iopub.status.idle": "2024-10-30T14:01:16.503811Z",
          "shell.execute_reply.started": "2024-10-30T14:01:16.492116Z",
          "shell.execute_reply": "2024-10-30T14:01:16.502816Z"
        },
        "trusted": true,
        "id": "Qiz01eTDdkjW"
      },
      "outputs": [],
      "execution_count": null
    },
    {
      "cell_type": "markdown",
      "source": [
        "What do you understand by the skip connections used here? Why are they necessary?"
      ],
      "metadata": {
        "id": "UkmASFFDM61l"
      }
    },
    {
      "cell_type": "markdown",
      "source": [
        "Answer:"
      ],
      "metadata": {
        "id": "ZfIjB3kiNC1-"
      }
    },
    {
      "cell_type": "code",
      "source": [
        "def Discriminator():\n",
        "\n",
        "  # Initialize the kernel initializer for the convolutional layers\n",
        "\n",
        "  initializer = tf.random_normal_initializer(0,0.02)\n",
        "\n",
        "  ''' Define input layers for the images and name the layers input_image and target_image respectively\n",
        "\n",
        "   1. Input image (real or generated) with shape [SIZE, SIZE, 3]\n",
        "\n",
        "   2. Target image (ground truth) with shape [SIZE, SIZE, 3]\n",
        "\n",
        "  '''\n",
        "\n",
        "  inp = tf.keras.layers.Input(shape=(256,256,3),name='input_image')\n",
        "\n",
        "  tar = tf.keras.layers.Input(shape=(256,256,3),name='target_image')\n",
        "\n",
        "\n",
        "\n",
        "  x = tf.keras.layers.concatenate([inp, tar]) # (bs, 256, 256, channels*2)\n",
        "\n",
        "\n",
        "\n",
        "\n",
        "\n",
        "  # create 3 downsampling layers\n",
        "\n",
        "\n",
        "  down1 = tf.keras.layers.Conv2D(64,4,strides=2,padding='same',kernel_initializer=initializer,use_bias=False)(x)\n",
        "\n",
        "  down1 = tf.keras.layers.BatchNormalization()(down1)\n",
        "\n",
        "  down1 = tf.keras.layers.LeakyReLU()(down1)\n",
        "\n",
        "  down2= tf.keras.layers.Conv2D(128,4,strides=2,padding='same',kernel_initializer=initializer,use_bias=False)(x)\n",
        "\n",
        "  down2 = tf.keras.layers.BatchNormalization()(down2)\n",
        "\n",
        "  down2 = tf.keras.layers.LeakyReLU()(down2)\n",
        "\n",
        "  down3 = tf.keras.layers.Conv2D(256,4,strides=2,padding='same',kernel_initializer=initializer,use_bias=False)(x)\n",
        "\n",
        "  down3 = tf.keras.layers.BatchNormalization()(down3)\n",
        "\n",
        "  down3 = tf.keras.layers.LeakyReLU()(down3)\n",
        "\n",
        "\n",
        "\n",
        "  # create 3 upsampling layers\n",
        "\n",
        "  down1 = tf.keras.layers.Conv2D(256,4,strides=2,padding='same',kernel_initializer=initializer,use_bias=False)(x)\n",
        "\n",
        "  down1 = tf.keras.layers.BatchNormalization()(down1)\n",
        "\n",
        "  down1 = tf.keras.layers.LeakyReLU()(down1)\n",
        "\n",
        "  down2= tf.keras.layers.Conv2D(128,4,strides=2,padding='same',kernel_initializer=initializer,use_bias=False)(x)\n",
        "\n",
        "  down2 = tf.keras.layers.BatchNormalization()(down2)\n",
        "\n",
        "  down2 = tf.keras.layers.LeakyReLU()(down2)\n",
        "\n",
        "  down3 = tf.keras.layers.Conv2D(64,4,strides=2,padding='same',kernel_initializer=initializer,use_bias=False)(x)\n",
        "\n",
        "  down3 = tf.keras.layers.BatchNormalization()(down3)\n",
        "\n",
        "  down3 = tf.keras.layers.LeakyReLU()(down3)\n",
        "\n",
        "\n",
        "\n",
        "\n",
        "  # now we require 2 more layers- zero padding and a convo 2d layer (again, kernel_initializer in the parameters here along w required kernel size and 512 no. of filters)\n",
        "\n",
        "  zero_pad1 = tf.keras.layers.ZeroPadding2D()(down3)\n",
        "\n",
        "  conv = tf.keras.layers.Conv2D(512,4,strides=1,kernel_initializer=initializer,use_bias=False)(zero_pad1)\n",
        "\n",
        "\n",
        "\n",
        "  # Apply bactch normalization, leaky relu and another layer of zero padding\n",
        "\n",
        "  batchnorm1 = tf.keras.layers.BatchNormalization()(conv)\n",
        "\n",
        "  leaky_relu = tf.keras.layers.LeakyReLU()(batchnorm1)\n",
        "\n",
        "  zero_pad2 =  tf.keras.layers.BatchNormalization()(conv)\n",
        "  # (bs, 33, 33, 512)\n",
        "\n",
        "\n",
        "\n",
        "  last = tf.keras.layers.Conv2D(1, 4, strides=1,\n",
        "\n",
        "                                kernel_initializer=initializer)(zero_pad2)\n",
        "\n",
        "\n",
        "\n",
        "  return tf.keras.Model(inputs=[inp, tar], outputs=last)\n"
      ],
      "metadata": {
        "execution": {
          "iopub.status.busy": "2024-10-30T14:01:16.505158Z",
          "iopub.execute_input": "2024-10-30T14:01:16.505552Z",
          "iopub.status.idle": "2024-10-30T14:01:16.516689Z",
          "shell.execute_reply.started": "2024-10-30T14:01:16.505487Z",
          "shell.execute_reply": "2024-10-30T14:01:16.515566Z"
        },
        "trusted": true,
        "id": "mkYeOURjdkjW"
      },
      "outputs": [],
      "execution_count": null
    },
    {
      "cell_type": "code",
      "source": [
        "generator = Generator()\n",
        "\n",
        "generator.summary()"
      ],
      "metadata": {
        "execution": {
          "iopub.status.busy": "2024-10-30T14:01:16.518126Z",
          "iopub.execute_input": "2024-10-30T14:01:16.518475Z",
          "iopub.status.idle": "2024-10-30T14:01:16.899053Z",
          "shell.execute_reply.started": "2024-10-30T14:01:16.518426Z",
          "shell.execute_reply": "2024-10-30T14:01:16.898057Z"
        },
        "trusted": true,
        "id": "zTtF5MuvdkjW",
        "colab": {
          "base_uri": "https://localhost:8080/",
          "height": 309
        },
        "outputId": "a0433259-ff22-49f7-8dda-9b51ef313611"
      },
      "outputs": [
        {
          "output_type": "error",
          "ename": "NameError",
          "evalue": "name 'tf' is not defined",
          "traceback": [
            "\u001b[0;31m---------------------------------------------------------------------------\u001b[0m",
            "\u001b[0;31mNameError\u001b[0m                                 Traceback (most recent call last)",
            "\u001b[0;32m<ipython-input-4-630a2819fb2c>\u001b[0m in \u001b[0;36m<cell line: 0>\u001b[0;34m()\u001b[0m\n\u001b[0;32m----> 1\u001b[0;31m \u001b[0mgenerator\u001b[0m \u001b[0;34m=\u001b[0m \u001b[0mGenerator\u001b[0m\u001b[0;34m(\u001b[0m\u001b[0;34m)\u001b[0m\u001b[0;34m\u001b[0m\u001b[0;34m\u001b[0m\u001b[0m\n\u001b[0m\u001b[1;32m      2\u001b[0m \u001b[0;34m\u001b[0m\u001b[0m\n\u001b[1;32m      3\u001b[0m \u001b[0mgenerator\u001b[0m\u001b[0;34m.\u001b[0m\u001b[0msummary\u001b[0m\u001b[0;34m(\u001b[0m\u001b[0;34m)\u001b[0m\u001b[0;34m\u001b[0m\u001b[0;34m\u001b[0m\u001b[0m\n",
            "\u001b[0;32m<ipython-input-1-7b0de01b9517>\u001b[0m in \u001b[0;36mGenerator\u001b[0;34m()\u001b[0m\n\u001b[1;32m      6\u001b[0m   \u001b[0;31m# Input layer: expects images of size 256x256 with 3 color channels (RGB)\u001b[0m\u001b[0;34m\u001b[0m\u001b[0;34m\u001b[0m\u001b[0m\n\u001b[1;32m      7\u001b[0m \u001b[0;34m\u001b[0m\u001b[0m\n\u001b[0;32m----> 8\u001b[0;31m   \u001b[0minputs\u001b[0m \u001b[0;34m=\u001b[0m \u001b[0mtf\u001b[0m\u001b[0;34m.\u001b[0m\u001b[0mkeras\u001b[0m\u001b[0;34m.\u001b[0m\u001b[0mInput\u001b[0m\u001b[0;34m(\u001b[0m\u001b[0mshape\u001b[0m\u001b[0;34m=\u001b[0m\u001b[0;34m(\u001b[0m\u001b[0;36m256\u001b[0m\u001b[0;34m,\u001b[0m\u001b[0;36m256\u001b[0m\u001b[0;34m,\u001b[0m\u001b[0;36m3\u001b[0m\u001b[0;34m)\u001b[0m\u001b[0;34m)\u001b[0m\u001b[0;34m\u001b[0m\u001b[0;34m\u001b[0m\u001b[0m\n\u001b[0m\u001b[1;32m      9\u001b[0m \u001b[0;34m\u001b[0m\u001b[0m\n\u001b[1;32m     10\u001b[0m \u001b[0;34m\u001b[0m\u001b[0m\n",
            "\u001b[0;31mNameError\u001b[0m: name 'tf' is not defined"
          ]
        }
      ],
      "execution_count": null
    },
    {
      "cell_type": "code",
      "source": [
        "discriminator = Discriminator()\n",
        "\n",
        "discriminator.summary()"
      ],
      "metadata": {
        "execution": {
          "iopub.status.busy": "2024-10-30T14:01:16.900399Z",
          "iopub.execute_input": "2024-10-30T14:01:16.900823Z",
          "iopub.status.idle": "2024-10-30T14:01:17.012545Z",
          "shell.execute_reply.started": "2024-10-30T14:01:16.900786Z",
          "shell.execute_reply": "2024-10-30T14:01:17.011563Z"
        },
        "trusted": true,
        "id": "plIuKVo7dkjW",
        "colab": {
          "base_uri": "https://localhost:8080/",
          "height": 309
        },
        "outputId": "618f319f-0d39-4c3c-8991-2c1297f212e5"
      },
      "outputs": [
        {
          "output_type": "error",
          "ename": "NameError",
          "evalue": "name 'tf' is not defined",
          "traceback": [
            "\u001b[0;31m---------------------------------------------------------------------------\u001b[0m",
            "\u001b[0;31mNameError\u001b[0m                                 Traceback (most recent call last)",
            "\u001b[0;32m<ipython-input-5-af6378fe402c>\u001b[0m in \u001b[0;36m<cell line: 0>\u001b[0;34m()\u001b[0m\n\u001b[0;32m----> 1\u001b[0;31m \u001b[0mdiscriminator\u001b[0m \u001b[0;34m=\u001b[0m \u001b[0mDiscriminator\u001b[0m\u001b[0;34m(\u001b[0m\u001b[0;34m)\u001b[0m\u001b[0;34m\u001b[0m\u001b[0;34m\u001b[0m\u001b[0m\n\u001b[0m\u001b[1;32m      2\u001b[0m \u001b[0;34m\u001b[0m\u001b[0m\n\u001b[1;32m      3\u001b[0m \u001b[0mdiscriminator\u001b[0m\u001b[0;34m.\u001b[0m\u001b[0msummary\u001b[0m\u001b[0;34m(\u001b[0m\u001b[0;34m)\u001b[0m\u001b[0;34m\u001b[0m\u001b[0;34m\u001b[0m\u001b[0m\n",
            "\u001b[0;32m<ipython-input-3-807620e58b48>\u001b[0m in \u001b[0;36mDiscriminator\u001b[0;34m()\u001b[0m\n\u001b[1;32m      3\u001b[0m   \u001b[0;31m# Initialize the kernel initializer for the convolutional layers\u001b[0m\u001b[0;34m\u001b[0m\u001b[0;34m\u001b[0m\u001b[0m\n\u001b[1;32m      4\u001b[0m \u001b[0;34m\u001b[0m\u001b[0m\n\u001b[0;32m----> 5\u001b[0;31m   \u001b[0minitializer\u001b[0m \u001b[0;34m=\u001b[0m \u001b[0mtf\u001b[0m\u001b[0;34m.\u001b[0m\u001b[0mrandom_normal_initializer\u001b[0m\u001b[0;34m(\u001b[0m\u001b[0;36m0\u001b[0m\u001b[0;34m,\u001b[0m\u001b[0;36m0.02\u001b[0m\u001b[0;34m)\u001b[0m\u001b[0;34m\u001b[0m\u001b[0;34m\u001b[0m\u001b[0m\n\u001b[0m\u001b[1;32m      6\u001b[0m \u001b[0;34m\u001b[0m\u001b[0m\n\u001b[1;32m      7\u001b[0m   ''' Define input layers for the images and name the layers input_image and target_image respectively\n",
            "\u001b[0;31mNameError\u001b[0m: name 'tf' is not defined"
          ]
        }
      ],
      "execution_count": null
    },
    {
      "cell_type": "code",
      "source": [
        "# Define Binary Cross-Entropy as the loss function for both generator and discriminator\n",
        "\n",
        "loss_object = tf.keras.losses.BinaryCrossentropy(from_logits=True)\n",
        "\n",
        "\n",
        "\n",
        "# Define adam optimizers for generator and discriminator with 2e-4 learning rate and 0.5 beta_1 value\n",
        "\n",
        "generator_optimizer = tf.keras.optimizers.Adam(2e-4,beta_1=0.5)\n",
        "\n",
        "discriminator_optimizer = tf.keras.optimizers.Adam(2e-4,beta_1=0.5)\n",
        "\n",
        "\n",
        "\n",
        "# LAMBDA is a constant that controls the weight of the L1 loss in the generator loss\n",
        "\n",
        "LAMBDA = 100"
      ],
      "metadata": {
        "execution": {
          "iopub.status.busy": "2024-10-30T14:01:17.013886Z",
          "iopub.execute_input": "2024-10-30T14:01:17.014198Z",
          "iopub.status.idle": "2024-10-30T14:01:17.025987Z",
          "shell.execute_reply.started": "2024-10-30T14:01:17.014165Z",
          "shell.execute_reply": "2024-10-30T14:01:17.024994Z"
        },
        "trusted": true,
        "id": "SmrlaU9idkjX"
      },
      "outputs": [],
      "execution_count": null
    },
    {
      "cell_type": "code",
      "source": [
        "def generator_loss(disc_generated_output, gen_output, target):\n",
        "\n",
        "  # GAN Loss - Encourage generator to make discriminator classify outputs as real\n",
        "\n",
        "  gan_loss = loss_object(tf.ones_like(disc_generated_output), disc_generated_output)\n",
        "\n",
        "\n",
        "\n",
        "  # L1 Loss - Calculate mean absolute error between generated and target images\n",
        "\n",
        "  l1_loss = tf.reduce_mean(tf.abs(target - gen_output))\n",
        "\n",
        "\n",
        "\n",
        "  # Total Generator Loss - Combine GAN loss and weighted L1 loss\n",
        "\n",
        "  total_gen_loss = gan_loss + (LAMBDA * l1_loss)\n",
        "\n",
        "\n",
        "\n",
        "  return total_gen_loss, gan_loss, l1_loss\n",
        "\n",
        "\n",
        "\n",
        "def discriminator_loss(disc_real_output, disc_generated_output):\n",
        "\n",
        "  real_loss = loss_object(tf.ones_like(disc_real_output), disc_real_output)\n",
        "\n",
        "\n",
        "\n",
        "  generated_loss = loss_object(tf.zeros_like(disc_generated_output), disc_generated_output)\n",
        "\n",
        "\n",
        "\n",
        "  # Total Discriminator Loss - Combine real loss and generated loss\n",
        "\n",
        "  total_disc_loss = real_loss + generated_loss\n",
        "\n",
        "\n",
        "\n",
        "  return total_disc_loss"
      ],
      "metadata": {
        "id": "X4EnRCPjzWbe"
      },
      "outputs": [],
      "execution_count": null
    },
    {
      "cell_type": "markdown",
      "source": [
        "The block of code below performs a single training iteration in a GAN model by updating the generator and discriminator. Each training step involves:\n",
        "\n",
        "1. generating an output with the generator\n",
        "\n",
        "2. evaluating it with the discriminator\n",
        "\n",
        "3. calculating losses\n",
        "\n",
        "4. computing gradients\n",
        "\n",
        "5. applying those gradients to optimize both models"
      ],
      "metadata": {
        "id": "L_3PQ4bw0AtA"
      }
    },
    {
      "cell_type": "code",
      "source": [
        "def train_step(input_image, target, epoch):\n",
        "\n",
        "  with tf.GradientTape() as gen_tape, tf.GradientTape() as disc_tape:\n",
        "\n",
        "    gen_output = generator(input_image, training=True)\n",
        "\n",
        "\n",
        "\n",
        "    disc_real_output = discriminator([input_image, target], training=True)\n",
        "\n",
        "    disc_generated_output = discriminator([input_image, gen_output], training=True)\n",
        "\n",
        "\n",
        "\n",
        "    gen_total_loss, gen_gan_loss, gen_l1_loss = generator_loss(disc_generated_output, gen_output, target)\n",
        "\n",
        "    disc_loss = discriminator_loss(disc_real_output, disc_generated_output)\n",
        "\n",
        "\n",
        "\n",
        "  generator_gradients = gen_tape.gradient(gen_total_loss,\n",
        "\n",
        "                                          generator.trainable_variables)\n",
        "\n",
        "  discriminator_gradients = disc_tape.gradient(disc_loss,\n",
        "\n",
        "                                               discriminator.trainable_variables)\n",
        "\n",
        "\n",
        "\n",
        "  generator_optimizer.apply_gradients(zip(generator_gradients,\n",
        "\n",
        "                                          generator.trainable_variables))\n",
        "\n",
        "  discriminator_optimizer.apply_gradients(zip(discriminator_gradients,\n",
        "\n",
        "                                              discriminator.trainable_variables))\n",
        "\n",
        "\n"
      ],
      "metadata": {
        "execution": {
          "iopub.status.busy": "2024-10-30T14:01:17.027117Z",
          "iopub.execute_input": "2024-10-30T14:01:17.028271Z",
          "iopub.status.idle": "2024-10-30T14:01:17.036581Z",
          "shell.execute_reply.started": "2024-10-30T14:01:17.028237Z",
          "shell.execute_reply": "2024-10-30T14:01:17.035688Z"
        },
        "trusted": true,
        "id": "L6F6Jjv-dkjX"
      },
      "outputs": [],
      "execution_count": null
    },
    {
      "cell_type": "code",
      "source": [
        "import time\n",
        "\n",
        "\n",
        "\n",
        "# training the GAN model\n",
        "\n",
        "def fit(train_ds, epochs,):\n",
        "\n",
        "  for epoch in range(epochs):\n",
        "\n",
        "    start = time.time()\n",
        "\n",
        "    print(\"Epoch: \", epoch+1)\n",
        "\n",
        "\n",
        "\n",
        "    # Train\n",
        "\n",
        "    for n, (input_image, target) in train_ds.enumerate():\n",
        "\n",
        "      train_step(input_image, target, epoch)\n",
        "\n",
        "    print()\n",
        "\n",
        "\n",
        "\n",
        "    print ('Time taken for epoch {} is {} sec\\n'.format(epoch + 1,\n",
        "\n",
        "                                                        time.time()-start))\n"
      ],
      "metadata": {
        "execution": {
          "iopub.status.busy": "2024-10-30T14:01:17.03772Z",
          "iopub.execute_input": "2024-10-30T14:01:17.038811Z",
          "iopub.status.idle": "2024-10-30T14:01:17.045446Z",
          "shell.execute_reply.started": "2024-10-30T14:01:17.038754Z",
          "shell.execute_reply": "2024-10-30T14:01:17.044437Z"
        },
        "trusted": true,
        "id": "0QAeg5ixdkjX"
      },
      "outputs": [],
      "execution_count": null
    },
    {
      "cell_type": "markdown",
      "source": [
        "Define a function **generate_images** to visualize the generator's output by comparing the model's predictions with the actual ground truth image"
      ],
      "metadata": {
        "id": "vta0adES06fr"
      }
    },
    {
      "cell_type": "code",
      "source": [
        "def generate_images(model, test_input, tar):\n",
        "\n",
        "  prediction = model(test_input, training=True)\n",
        "\n",
        "\n",
        "\n",
        "  # List of images to display: input, ground truth, and predicted output\n",
        "\n",
        "  # write the code\n",
        "\n",
        "  test_input=test_input.numpy()\n",
        "\n",
        "  tar=tar.numpy()\n",
        "\n",
        "  prediction=prediction.numpy()\n",
        "\n",
        "  def normalize_image(img):\n",
        "    return (img+1)/2\n",
        "\n",
        "  test_input=normalize_image(test_input)\n",
        "\n",
        "  tar=normalize_image(tar)\n",
        "\n",
        "  prediction=normalize_image(prediction)\n",
        "\n",
        "  plt.figure(figsize=(15, 5))\n",
        "\n",
        "  titles=['input image','ground truth','predicted image']\n",
        "\n",
        "  images=[test_input,tar,prediction]\n",
        "\n",
        "  for i in range(3):\n",
        "\n",
        "    plt.subplot(1,3,i+1)\n",
        "\n",
        "    plt.title(titles[i])\n",
        "\n",
        "    plt.imshow(images[i][0])\n",
        "\n",
        "\n",
        "\n",
        "for example_input, example_target in tf.data.Dataset.zip((gray_dataset,color_dataset)).take(2):\n",
        "\n",
        "  generate_images(generator, example_input, example_target)\n"
      ],
      "metadata": {
        "execution": {
          "iopub.status.busy": "2024-10-30T14:01:17.046816Z",
          "iopub.execute_input": "2024-10-30T14:01:17.047556Z",
          "iopub.status.idle": "2024-10-30T14:01:26.781177Z",
          "shell.execute_reply.started": "2024-10-30T14:01:17.047486Z",
          "shell.execute_reply": "2024-10-30T14:01:26.780035Z"
        },
        "trusted": true,
        "id": "so8TtxuqdkjX",
        "colab": {
          "base_uri": "https://localhost:8080/",
          "height": 219
        },
        "outputId": "54359447-b2cc-43f5-ba1d-234e8bd211d5"
      },
      "outputs": [
        {
          "output_type": "error",
          "ename": "NameError",
          "evalue": "name 'gray_dataset' is not defined",
          "traceback": [
            "\u001b[0;31m---------------------------------------------------------------------------\u001b[0m",
            "\u001b[0;31mNameError\u001b[0m                                 Traceback (most recent call last)",
            "\u001b[0;32m<ipython-input-15-0e458082ef6f>\u001b[0m in \u001b[0;36m<cell line: 0>\u001b[0;34m()\u001b[0m\n\u001b[1;32m     40\u001b[0m \u001b[0;34m\u001b[0m\u001b[0m\n\u001b[1;32m     41\u001b[0m \u001b[0;34m\u001b[0m\u001b[0m\n\u001b[0;32m---> 42\u001b[0;31m \u001b[0;32mfor\u001b[0m \u001b[0mexample_input\u001b[0m\u001b[0;34m,\u001b[0m \u001b[0mexample_target\u001b[0m \u001b[0;32min\u001b[0m \u001b[0mtf\u001b[0m\u001b[0;34m.\u001b[0m\u001b[0mdata\u001b[0m\u001b[0;34m.\u001b[0m\u001b[0mDataset\u001b[0m\u001b[0;34m.\u001b[0m\u001b[0mzip\u001b[0m\u001b[0;34m(\u001b[0m\u001b[0;34m(\u001b[0m\u001b[0mgray_dataset\u001b[0m\u001b[0;34m,\u001b[0m\u001b[0mcolor_dataset\u001b[0m\u001b[0;34m)\u001b[0m\u001b[0;34m)\u001b[0m\u001b[0;34m.\u001b[0m\u001b[0mtake\u001b[0m\u001b[0;34m(\u001b[0m\u001b[0;36m2\u001b[0m\u001b[0;34m)\u001b[0m\u001b[0;34m:\u001b[0m\u001b[0;34m\u001b[0m\u001b[0;34m\u001b[0m\u001b[0m\n\u001b[0m\u001b[1;32m     43\u001b[0m \u001b[0;34m\u001b[0m\u001b[0m\n\u001b[1;32m     44\u001b[0m   \u001b[0mgenerate_images\u001b[0m\u001b[0;34m(\u001b[0m\u001b[0mgenerator\u001b[0m\u001b[0;34m,\u001b[0m \u001b[0mexample_input\u001b[0m\u001b[0;34m,\u001b[0m \u001b[0mexample_target\u001b[0m\u001b[0;34m)\u001b[0m\u001b[0;34m\u001b[0m\u001b[0;34m\u001b[0m\u001b[0m\n",
            "\u001b[0;31mNameError\u001b[0m: name 'gray_dataset' is not defined"
          ]
        }
      ],
      "execution_count": null
    },
    {
      "cell_type": "code",
      "source": [
        "import tensorflow as tf\n",
        "\n",
        "tf.keras.backend.clear_session()"
      ],
      "metadata": {
        "execution": {
          "iopub.status.busy": "2024-10-30T14:01:26.782486Z",
          "iopub.execute_input": "2024-10-30T14:01:26.782851Z",
          "iopub.status.idle": "2024-10-30T14:01:27.092215Z",
          "shell.execute_reply.started": "2024-10-30T14:01:26.782817Z",
          "shell.execute_reply": "2024-10-30T14:01:27.090851Z"
        },
        "trusted": true,
        "id": "TMgI3IaRdkjc"
      },
      "outputs": [],
      "execution_count": null
    },
    {
      "cell_type": "code",
      "source": [
        "# fit the data to train it on both the gray_dataset and the color_dataset for 2 epochs (use the zip function)\n",
        "\n",
        "fit(tf.data.Dataset.zip((gray_dataset,color_dataset)),epochs=2)\n"
      ],
      "metadata": {
        "execution": {
          "iopub.status.busy": "2024-10-30T14:01:27.095285Z",
          "iopub.execute_input": "2024-10-30T14:01:27.095698Z",
          "iopub.status.idle": "2024-10-30T14:11:13.47515Z",
          "shell.execute_reply.started": "2024-10-30T14:01:27.095648Z",
          "shell.execute_reply": "2024-10-30T14:11:13.473999Z"
        },
        "trusted": true,
        "id": "MsuVZ94qdkjc"
      },
      "outputs": [],
      "execution_count": null
    },
    {
      "cell_type": "code",
      "source": [
        "generator.compile(loss= tf.keras.losses.MeanSquaredError()\n",
        "                  , optimizer=  tf.keras.optimizers.Adam(2e-4,beta_1=0.5)\n",
        "                  , metrics= ['mae']\n",
        "                  ) # set values as required\n",
        "\n",
        "\n",
        "\n",
        "for example_input, example_target in tf.data.Dataset.zip((gray_dataset_t,color_dataset_t)).take(11):\n",
        "\n",
        "    Gray_test = example_input\n",
        "\n",
        "    Color_test = example_target\n",
        "\n",
        "\n",
        "\n",
        "ModelLoss, ModelAccuracy = generator.evaluate( Gray_test, Color_test)\n",
        "\n",
        "\n",
        "\n",
        "print('Test Loss is {}'.format(ModelLoss))\n",
        "\n",
        "print('Test Accuracy is {}'.format(ModelAccuracy ))"
      ],
      "metadata": {
        "execution": {
          "iopub.status.busy": "2024-10-30T14:11:13.476971Z",
          "iopub.execute_input": "2024-10-30T14:11:13.477782Z",
          "iopub.status.idle": "2024-10-30T14:11:22.771292Z",
          "shell.execute_reply.started": "2024-10-30T14:11:13.477729Z",
          "shell.execute_reply": "2024-10-30T14:11:22.770353Z"
        },
        "trusted": true,
        "id": "-5XZNKR3dkjd"
      },
      "outputs": [],
      "execution_count": null
    },
    {
      "cell_type": "code",
      "source": [
        "# Function to generate images and their distributions\n",
        "\n",
        "def generate_images_and_distribution(model, gray_dataset, color_dataset, num_images):\n",
        "\n",
        "    # Create a combined dataset\n",
        "\n",
        "    dataset = tf.data.Dataset.zip((gray_dataset, color_dataset)).shuffle(buffer_size=1000).take(num_images)\n",
        "\n",
        "\n",
        "\n",
        "    for example_input, example_target in dataset:\n",
        "      input_image = example_input.numpy()\n",
        "        target_image = example_target.numpy()\n",
        "\n",
        "\n",
        "\n",
        "        # Extract single examples from the batch\n",
        "\n",
        "\n",
        "        for idx in range(num_images):\n",
        "\n",
        "            input_image = example_input[idx]\n",
        "\n",
        "            target_image = example_target[idx]\n",
        "\n",
        "\n",
        "\n",
        "            # Add batch dimension\n",
        "            input_image = tf.expand_dims(input_image, axis=0)\n",
        "\n",
        "            target_image = tf.expand_dims(target_image, axis=0)\n",
        "\n",
        "            input_image = tf.expand_dims(input_image, axis=0)  # Shape: (1, 256, 256, 3)\n",
        "\n",
        "            target_image = tf.expand_dims(target_image, axis=0)  # Shape: (1, 256, 256, 3)\n",
        "\n",
        "\n",
        "\n",
        "            # Predict color images from the grayscale input\n",
        "\n",
        "\n",
        "            predictions = model(input_image, training=True)\n",
        "\n",
        "\n",
        "\n",
        "            # Plot images\n",
        "\n",
        "            plt.figure(figsize=(15, 5))\n",
        "            # Create a new figure for the images\n",
        "\n",
        "\n",
        "\n",
        "\n",
        "\n",
        "            # Plot grayscale input\n",
        "\n",
        "            plt.subplot(1, 3, 1)\n",
        "\n",
        "            plt.title('Input Image')\n",
        "\n",
        "            plt.imshow(tf.squeeze(input_image), cmap='gray')\n",
        "\n",
        "            plt.axis('off')\n",
        "\n",
        "\n",
        "\n",
        "            # Plot ground truth color image\n",
        "\n",
        "            plt.subplot(1, 3, 2)\n",
        "\n",
        "            plt.title('Ground Truth')\n",
        "\n",
        "            plt.imshow(tf.squeeze(target_image))\n",
        "\n",
        "            plt.axis('off')\n",
        "\n",
        "\n",
        "\n",
        "            # Plot predicted color image\n",
        "\n",
        "            plt.subplot(1, 3, 3)\n",
        "\n",
        "            plt.title('Predicted')\n",
        "\n",
        "            plt.imshow(tf.squeeze(predictions))\n",
        "\n",
        "            plt.axis('off')\n",
        "\n",
        "\n",
        "\n",
        "            plt.tight_layout()\n",
        "\n",
        "            plt.show()  # Show the images\n",
        "\n",
        "\n",
        "\n",
        "            # Plot color distributions side by side\n",
        "\n",
        "            plt.figure(figsize=(15, 5))  # Create a new figure for color distributions\n",
        "\n",
        "\n",
        "\n",
        "            # Ground truth color distribution\n",
        "\n",
        "            plt.subplot(1, 2, 1)\n",
        "\n",
        "            colors = ('r', 'g', 'b')\n",
        "\n",
        "            for i, color in enumerate(colors):\n",
        "\n",
        "                histogram, bin_edges = np.histogram(target_image.numpy()[..., i], bins=256, range=(0, 1))\n",
        "\n",
        "                plt.plot(bin_edges[0:-1], histogram, color=color, alpha=0.5, label=f'{color.upper()} channel')\n",
        "\n",
        "\n",
        "\n",
        "            plt.title('Ground Truth Distribution')\n",
        "\n",
        "            plt.xlabel('Pixel Value')\n",
        "\n",
        "            plt.ylabel('Frequency')\n",
        "\n",
        "            plt.legend()\n",
        "\n",
        "\n",
        "\n",
        "            # Predicted color distribution\n",
        "\n",
        "            plt.subplot(1, 2, 2)\n",
        "\n",
        "            for i, color in enumerate(colors):\n",
        "\n",
        "                histogram, bin_edges = np.histogram(predictions.numpy()[..., i], bins=256, range=(0, 1))\n",
        "\n",
        "                plt.plot(bin_edges[0:-1], histogram, color=color, alpha=0.5, label=f'{color.upper()} channel')\n",
        "\n",
        "\n",
        "\n",
        "            plt.title('Predicted Distribution')\n",
        "\n",
        "            plt.xlabel('Pixel Value')\n",
        "\n",
        "            plt.ylabel('Frequency')\n",
        "\n",
        "            plt.legend()\n",
        "\n",
        "\n",
        "\n",
        "            plt.tight_layout()\n",
        "\n",
        "            plt.show()\n",
        "             # Show the distribution plots\n"
      ],
      "metadata": {
        "execution": {
          "iopub.status.busy": "2024-10-30T14:25:09.280263Z",
          "iopub.execute_input": "2024-10-30T14:25:09.281173Z",
          "iopub.status.idle": "2024-10-30T14:25:09.297952Z",
          "shell.execute_reply.started": "2024-10-30T14:25:09.281125Z",
          "shell.execute_reply": "2024-10-30T14:25:09.296819Z"
        },
        "trusted": true,
        "id": "ptbedR4sdkjd"
      },
      "outputs": [],
      "execution_count": null
    },
    {
      "cell_type": "code",
      "source": [
        "num_images_to_display = 4# Change this to the desired number of images\n",
        "\n",
        "generate_images_and_distribution(generator, gray_dataset_t, color_dataset_t, num_images_to_display)"
      ],
      "metadata": {
        "execution": {
          "iopub.status.busy": "2024-10-30T14:25:15.672783Z",
          "iopub.execute_input": "2024-10-30T14:25:15.673182Z",
          "iopub.status.idle": "2024-10-30T14:25:31.505471Z",
          "shell.execute_reply.started": "2024-10-30T14:25:15.673145Z",
          "shell.execute_reply": "2024-10-30T14:25:31.504568Z"
        },
        "trusted": true,
        "id": "sddMCc0Vdkje"
      },
      "outputs": [],
      "execution_count": null
    },
    {
      "cell_type": "markdown",
      "source": [
        "# **End of Task**\n",
        "\n",
        "\n",
        "\n",
        "> ©Synapse 2024 - 2025\n"
      ],
      "metadata": {
        "id": "CeSE3CHzNXkJ"
      }
    }
  ]
}